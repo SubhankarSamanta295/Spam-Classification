{
  "nbformat": 4,
  "nbformat_minor": 0,
  "metadata": {
    "colab": {
      "name": "NLP Spam Email.ipynb",
      "provenance": [],
      "collapsed_sections": [],
      "mount_file_id": "1D_uAUNzxBKqG3HS_YCyL9Q0sVvhuVM6B",
      "authorship_tag": "ABX9TyMjIa//2mlW5jjGAlSfaQkU",
      "include_colab_link": true
    },
    "kernelspec": {
      "name": "python3",
      "display_name": "Python 3"
    },
    "accelerator": "GPU"
  },
  "cells": [
    {
      "cell_type": "markdown",
      "metadata": {
        "id": "view-in-github",
        "colab_type": "text"
      },
      "source": [
        "<a href=\"https://colab.research.google.com/github/SubhankarSamanta295/Spam-Classification/blob/main/NLP_Spam_Email.ipynb\" target=\"_parent\"><img src=\"https://colab.research.google.com/assets/colab-badge.svg\" alt=\"Open In Colab\"/></a>"
      ]
    },
    {
      "cell_type": "code",
      "metadata": {
        "id": "dlzq-41mSrin"
      },
      "source": [
        "#import nltk\n",
        "#nltk.download('stopwords')\n",
        "#from nltk.corpus import stopwords"
      ],
      "execution_count": null,
      "outputs": []
    },
    {
      "cell_type": "code",
      "metadata": {
        "id": "A30hDQo9uR_W"
      },
      "source": [
        "import pandas as pd\n",
        "import numpy as np\n",
        "import matplotlib.pyplot as plt\n",
        "%matplotlib inline\n",
        "import nltk\n",
        "from nltk.corpus import stopwords\n",
        "import string\n",
        "from sklearn.metrics import confusion_matrix, accuracy_score, classification_report"
      ],
      "execution_count": null,
      "outputs": []
    },
    {
      "cell_type": "code",
      "metadata": {
        "id": "i87L-0fK6lop",
        "colab": {
          "base_uri": "https://localhost:8080/",
          "height": 206
        },
        "outputId": "88d2e5b3-8d06-439a-df4e-f982087879dc"
      },
      "source": [
        "data = pd.read_csv('/content/drive/MyDrive/Spam Email/emails.csv')\n",
        "data.head()"
      ],
      "execution_count": null,
      "outputs": [
        {
          "output_type": "execute_result",
          "data": {
            "text/html": [
              "<div>\n",
              "<style scoped>\n",
              "    .dataframe tbody tr th:only-of-type {\n",
              "        vertical-align: middle;\n",
              "    }\n",
              "\n",
              "    .dataframe tbody tr th {\n",
              "        vertical-align: top;\n",
              "    }\n",
              "\n",
              "    .dataframe thead th {\n",
              "        text-align: right;\n",
              "    }\n",
              "</style>\n",
              "<table border=\"1\" class=\"dataframe\">\n",
              "  <thead>\n",
              "    <tr style=\"text-align: right;\">\n",
              "      <th></th>\n",
              "      <th>text</th>\n",
              "      <th>spam</th>\n",
              "    </tr>\n",
              "  </thead>\n",
              "  <tbody>\n",
              "    <tr>\n",
              "      <th>0</th>\n",
              "      <td>Subject: naturally irresistible your corporate...</td>\n",
              "      <td>1</td>\n",
              "    </tr>\n",
              "    <tr>\n",
              "      <th>1</th>\n",
              "      <td>Subject: the stock trading gunslinger  fanny i...</td>\n",
              "      <td>1</td>\n",
              "    </tr>\n",
              "    <tr>\n",
              "      <th>2</th>\n",
              "      <td>Subject: unbelievable new homes made easy  im ...</td>\n",
              "      <td>1</td>\n",
              "    </tr>\n",
              "    <tr>\n",
              "      <th>3</th>\n",
              "      <td>Subject: 4 color printing special  request add...</td>\n",
              "      <td>1</td>\n",
              "    </tr>\n",
              "    <tr>\n",
              "      <th>4</th>\n",
              "      <td>Subject: do not have money , get software cds ...</td>\n",
              "      <td>1</td>\n",
              "    </tr>\n",
              "  </tbody>\n",
              "</table>\n",
              "</div>"
            ],
            "text/plain": [
              "                                                text  spam\n",
              "0  Subject: naturally irresistible your corporate...     1\n",
              "1  Subject: the stock trading gunslinger  fanny i...     1\n",
              "2  Subject: unbelievable new homes made easy  im ...     1\n",
              "3  Subject: 4 color printing special  request add...     1\n",
              "4  Subject: do not have money , get software cds ...     1"
            ]
          },
          "metadata": {
            "tags": []
          },
          "execution_count": 3
        }
      ]
    },
    {
      "cell_type": "code",
      "metadata": {
        "colab": {
          "base_uri": "https://localhost:8080/"
        },
        "id": "Lj2LQiAr-Ta4",
        "outputId": "242c49f5-48df-4b4e-d2aa-082b56379ac2"
      },
      "source": [
        "print('Dataset shape : {} \\n'.format(data.shape))\n",
        "print('Clumns in the dataset : {} \\n'.format(data.columns))\n",
        "print('{} \\n'.format(data['spam'].value_counts()))"
      ],
      "execution_count": null,
      "outputs": [
        {
          "output_type": "stream",
          "text": [
            "Dataset shape : (5728, 2) \n",
            "\n",
            "Clumns in the dataset : Index(['text', 'spam'], dtype='object') \n",
            "\n",
            "0    4360\n",
            "1    1368\n",
            "Name: spam, dtype: int64 \n",
            "\n"
          ],
          "name": "stdout"
        }
      ]
    },
    {
      "cell_type": "code",
      "metadata": {
        "colab": {
          "base_uri": "https://localhost:8080/"
        },
        "id": "ehhExbyuTmtf",
        "outputId": "4fcd683f-7081-462d-8bf5-85bf7a7a141b"
      },
      "source": [
        "data['spam'].value_counts()"
      ],
      "execution_count": null,
      "outputs": [
        {
          "output_type": "execute_result",
          "data": {
            "text/plain": [
              "0    4360\n",
              "1    1368\n",
              "Name: spam, dtype: int64"
            ]
          },
          "metadata": {
            "tags": []
          },
          "execution_count": 5
        }
      ]
    },
    {
      "cell_type": "code",
      "metadata": {
        "colab": {
          "base_uri": "https://localhost:8080/",
          "height": 276
        },
        "id": "zRWb1WlqTj61",
        "outputId": "42e84d1e-060d-40df-a079-c28dcc662e83"
      },
      "source": [
        "data['spam'].value_counts().plot.bar()\n",
        "plt.xlabel('spam')\n",
        "plt.ylabel('counts')\n",
        "plt.show()"
      ],
      "execution_count": null,
      "outputs": [
        {
          "output_type": "display_data",
          "data": {
            "image/png": "[encoded data removed]",
            "text/plain": [
              "<Figure size 432x288 with 1 Axes>"
            ]
          },
          "metadata": {
            "tags": [],
            "needs_background": "light"
          }
        }
      ]
    },
    {
      "cell_type": "code",
      "metadata": {
        "id": "ZFOT4Of31Diq"
      },
      "source": [
        "#Drop duplicates\n",
        "data.drop_duplicates(inplace=True)"
      ],
      "execution_count": null,
      "outputs": []
    },
    {
      "cell_type": "code",
      "metadata": {
        "id": "XzK-mBCx_dIv",
        "colab": {
          "base_uri": "https://localhost:8080/"
        },
        "outputId": "eb568b33-ec62-4a92-8a82-de88043ecc2e"
      },
      "source": [
        "#Dataset after droping the duplicates\n",
        "print('Dataset shape : {} \\n'.format(data.shape))\n",
        "print('Columns in the dataset : {} \\n'.format(data.columns))\n",
        "print('{} \\n'.format(data['spam'].value_counts()))\n",
        "print('{}'.format(data.isnull().sum()))"
      ],
      "execution_count": null,
      "outputs": [
        {
          "output_type": "stream",
          "text": [
            "Dataset shape : (5695, 2) \n",
            "\n",
            "Columns in the dataset : Index(['text', 'spam'], dtype='object') \n",
            "\n",
            "0    4327\n",
            "1    1368\n",
            "Name: spam, dtype: int64 \n",
            "\n",
            "text    0\n",
            "spam    0\n",
            "dtype: int64\n"
          ],
          "name": "stdout"
        }
      ]
    },
    {
      "cell_type": "code",
      "metadata": {
        "id": "q6JgWImRQdvN"
      },
      "source": [
        "#Finding out the percentage of missing values\n",
        "features_nan = [feature for feature in data.columns if data[feature].isnull().sum()>0]\n",
        "for feature in features_nan:\n",
        "  print(feature,np.round(data[feature].mean(),decimal=4))\n",
        "\n",
        "#Do it if you have missing values"
      ],
      "execution_count": null,
      "outputs": []
    },
    {
      "cell_type": "code",
      "metadata": {
        "colab": {
          "base_uri": "https://localhost:8080/"
        },
        "id": "Bm3hQ46zf9eF",
        "outputId": "9321f3c1-cb73-4b40-e21a-47f5e3c555c2"
      },
      "source": [
        "#download the stopwards package\n",
        "nltk.download('stopwords')"
      ],
      "execution_count": null,
      "outputs": [
        {
          "output_type": "stream",
          "text": [
            "[nltk_data] Downloading package stopwords to /root/nltk_data...\n",
            "[nltk_data]   Unzipping corpora/stopwords.zip.\n"
          ],
          "name": "stdout"
        },
        {
          "output_type": "execute_result",
          "data": {
            "text/plain": [
              "True"
            ]
          },
          "metadata": {
            "tags": []
          },
          "execution_count": 10
        }
      ]
    },
    {
      "cell_type": "code",
      "metadata": {
        "id": "ZaPEh5lRhApq"
      },
      "source": [
        "#1-> Remove punctuation, 2-> Remove Stopwards, 3-> Return Clear text\n",
        "def process_text(text):\n",
        "  nonpunc = [char for char in text if char not in string.punctuation]\n",
        "  nonpunc = ''.join(nonpunc)\n",
        "\n",
        "  clean_words = [word for word in nonpunc.split() if word.lower not in stopwords.words('english')]\n",
        "\n",
        "  return clean_words"
      ],
      "execution_count": null,
      "outputs": []
    },
    {
      "cell_type": "code",
      "metadata": {
        "colab": {
          "base_uri": "https://localhost:8080/"
        },
        "id": "_vUTp9rCq9br",
        "outputId": "a331f31a-66d0-4fa5-d7d5-07aa13cbdf7a"
      },
      "source": [
        "#Show the tokenization (a list of tokens also called lemmas)\n",
        "data['text'].head().apply(process_text)"
      ],
      "execution_count": null,
      "outputs": [
        {
          "output_type": "execute_result",
          "data": {
            "text/plain": [
              "0    [Subject, naturally, irresistible, your, corpo...\n",
              "1    [Subject, the, stock, trading, gunslinger, fan...\n",
              "2    [Subject, unbelievable, new, homes, made, easy...\n",
              "3    [Subject, 4, color, printing, special, request...\n",
              "4    [Subject, do, not, have, money, get, software,...\n",
              "Name: text, dtype: object"
            ]
          },
          "metadata": {
            "tags": []
          },
          "execution_count": 12
        }
      ]
    },
    {
      "cell_type": "code",
      "metadata": {
        "colab": {
          "base_uri": "https://localhost:8080/",
          "height": 206
        },
        "id": "NrKOCVKFrU5M",
        "outputId": "5ab113ff-8439-4f05-e074-1bb1150363d9"
      },
      "source": [
        "data.head()"
      ],
      "execution_count": null,
      "outputs": [
        {
          "output_type": "execute_result",
          "data": {
            "text/html": [
              "<div>\n",
              "<style scoped>\n",
              "    .dataframe tbody tr th:only-of-type {\n",
              "        vertical-align: middle;\n",
              "    }\n",
              "\n",
              "    .dataframe tbody tr th {\n",
              "        vertical-align: top;\n",
              "    }\n",
              "\n",
              "    .dataframe thead th {\n",
              "        text-align: right;\n",
              "    }\n",
              "</style>\n",
              "<table border=\"1\" class=\"dataframe\">\n",
              "  <thead>\n",
              "    <tr style=\"text-align: right;\">\n",
              "      <th></th>\n",
              "      <th>text</th>\n",
              "      <th>spam</th>\n",
              "    </tr>\n",
              "  </thead>\n",
              "  <tbody>\n",
              "    <tr>\n",
              "      <th>0</th>\n",
              "      <td>Subject: naturally irresistible your corporate...</td>\n",
              "      <td>1</td>\n",
              "    </tr>\n",
              "    <tr>\n",
              "      <th>1</th>\n",
              "      <td>Subject: the stock trading gunslinger  fanny i...</td>\n",
              "      <td>1</td>\n",
              "    </tr>\n",
              "    <tr>\n",
              "      <th>2</th>\n",
              "      <td>Subject: unbelievable new homes made easy  im ...</td>\n",
              "      <td>1</td>\n",
              "    </tr>\n",
              "    <tr>\n",
              "      <th>3</th>\n",
              "      <td>Subject: 4 color printing special  request add...</td>\n",
              "      <td>1</td>\n",
              "    </tr>\n",
              "    <tr>\n",
              "      <th>4</th>\n",
              "      <td>Subject: do not have money , get software cds ...</td>\n",
              "      <td>1</td>\n",
              "    </tr>\n",
              "  </tbody>\n",
              "</table>\n",
              "</div>"
            ],
            "text/plain": [
              "                                                text  spam\n",
              "0  Subject: naturally irresistible your corporate...     1\n",
              "1  Subject: the stock trading gunslinger  fanny i...     1\n",
              "2  Subject: unbelievable new homes made easy  im ...     1\n",
              "3  Subject: 4 color printing special  request add...     1\n",
              "4  Subject: do not have money , get software cds ...     1"
            ]
          },
          "metadata": {
            "tags": []
          },
          "execution_count": 13
        }
      ]
    },
    {
      "cell_type": "code",
      "metadata": {
        "id": "Zz_Ie_oLrtGK"
      },
      "source": [
        "#Convert a collection of text to matrix of tokens\n",
        "from sklearn.feature_extraction.text import CountVectorizer\n",
        "messages_bow = CountVectorizer(analyzer=process_text).fit_transform(data['text'])"
      ],
      "execution_count": null,
      "outputs": []
    },
    {
      "cell_type": "code",
      "metadata": {
        "id": "aPkawHemsxNO"
      },
      "source": [
        "#Splitting the dataset\n",
        "from sklearn.model_selection import train_test_split\n",
        "x_train,x_test,y_train,y_test = train_test_split(messages_bow, data['spam'], test_size=0.2, random_state = 80)"
      ],
      "execution_count": null,
      "outputs": []
    },
    {
      "cell_type": "markdown",
      "metadata": {
        "id": "NwsOof-QvFrj"
      },
      "source": [
        "### Model Testing/ Building"
      ]
    },
    {
      "cell_type": "code",
      "metadata": {
        "colab": {
          "base_uri": "https://localhost:8080/"
        },
        "id": "MgqyGZiJuUVg",
        "outputId": "201ff391-f1d5-4df9-8e01-8a4533eec78b"
      },
      "source": [
        "from sklearn.naive_bayes import MultinomialNB\n",
        "classifier_multi = MultinomialNB()\n",
        "classifier_multi.fit(x_train,y_train)"
      ],
      "execution_count": null,
      "outputs": [
        {
          "output_type": "execute_result",
          "data": {
            "text/plain": [
              "MultinomialNB(alpha=1.0, class_prior=None, fit_prior=True)"
            ]
          },
          "metadata": {
            "tags": []
          },
          "execution_count": 24
        }
      ]
    },
    {
      "cell_type": "code",
      "metadata": {
        "colab": {
          "base_uri": "https://localhost:8080/"
        },
        "id": "4pAg_y96u2ZR",
        "outputId": "9a2ef454-e7f4-4265-af13-17b4df35e3eb"
      },
      "source": [
        "#Printing train predictions\n",
        "print(classifier_multi.predict(x_train))\n",
        "\n",
        "#Printing test predictions\n",
        "print(classifier_multi.predict(x_test))"
      ],
      "execution_count": null,
      "outputs": [
        {
          "output_type": "stream",
          "text": [
            "[0 0 1 ... 0 0 1]\n",
            "[0 0 0 ... 0 1 1]\n"
          ],
          "name": "stdout"
        }
      ]
    },
    {
      "cell_type": "code",
      "metadata": {
        "colab": {
          "base_uri": "https://localhost:8080/"
        },
        "id": "P1qaY-VRzjdc",
        "outputId": "ca3f227c-f805-4a5e-f308-6bf561808c73"
      },
      "source": [
        "#Visualizing the performace of the model\n",
        "y_pred_train = classifier_multi.predict(x_train)\n",
        "\n",
        "#Printing the classification_report\n",
        "print(classification_report(y_train, y_pred_train))\n",
        "\n",
        "#Printing the confusion_matrix\n",
        "cm = confusion_matrix(y_train , y_pred_train)\n",
        "print(cm)\n",
        "\n",
        "#Printing the accuracy score\n",
        "acc_score = accuracy_score(y_pred_train , y_train)\n",
        "acc_score = acc_score*100\n",
        "print('Accuracy of training set {}%'.format(acc_score))"
      ],
      "execution_count": null,
      "outputs": [
        {
          "output_type": "stream",
          "text": [
            "              precision    recall  f1-score   support\n",
            "\n",
            "           0       1.00      1.00      1.00      3474\n",
            "           1       0.99      1.00      0.99      1082\n",
            "\n",
            "    accuracy                           1.00      4556\n",
            "   macro avg       0.99      1.00      1.00      4556\n",
            "weighted avg       1.00      1.00      1.00      4556\n",
            "\n",
            "[[3460   14]\n",
            " [   1 1081]]\n",
            "Accuracy of training set 99.67076382791923%\n"
          ],
          "name": "stdout"
        }
      ]
    },
    {
      "cell_type": "code",
      "metadata": {
        "colab": {
          "base_uri": "https://localhost:8080/"
        },
        "id": "pNEc_0DRvr7q",
        "outputId": "0766652c-1727-46a2-a5e4-1d253b7a8d1e"
      },
      "source": [
        "#Visualizing the performace of the model\n",
        "y_pred_test = classifier_multi.predict(x_test)\n",
        "\n",
        "#Printing the classification_report\n",
        "print(classification_report(y_test, y_pred_test))\n",
        "\n",
        "#Printing the confusion_matrix\n",
        "cm = confusion_matrix(y_test , y_pred_test)\n",
        "print(cm)\n",
        "\n",
        "#Printing the accuracy score\n",
        "acc_score = accuracy_score(y_pred_test , y_test)\n",
        "acc_score = acc_score*100\n",
        "print('Accuracy of training set {}%'.format(acc_score))"
      ],
      "execution_count": null,
      "outputs": [
        {
          "output_type": "stream",
          "text": [
            "              precision    recall  f1-score   support\n",
            "\n",
            "           0       1.00      0.99      1.00       853\n",
            "           1       0.98      1.00      0.99       286\n",
            "\n",
            "    accuracy                           0.99      1139\n",
            "   macro avg       0.99      0.99      0.99      1139\n",
            "weighted avg       0.99      0.99      0.99      1139\n",
            "\n",
            "[[847   6]\n",
            " [  1 285]]\n",
            "Accuracy of training set 99.3854258121159%\n"
          ],
          "name": "stdout"
        }
      ]
    }
  ]
}